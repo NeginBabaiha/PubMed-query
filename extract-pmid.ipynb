{
 "cells": [
  {
   "cell_type": "code",
   "execution_count": 1,
   "metadata": {},
   "outputs": [],
   "source": [
    "import urllib\n",
    "import requests\n",
    "import pandas as pd\n",
    "import re\n",
    "import time\n",
    "import pickle\n",
    "from xml.etree import ElementTree\n",
    "import xmltodict\n",
    "import numpy as np"
   ]
  },
  {
   "cell_type": "code",
   "execution_count": 4,
   "metadata": {},
   "outputs": [
    {
     "name": "stdout",
     "output_type": "stream",
     "text": [
      "searching query about: COVID-19[mesh]+AND+neural+cell\n",
      "Search URL https://eutils.ncbi.nlm.nih.gov/entrez/eutils/esearch.fcgi?db=pubmed&term=COVID-19[mesh]+AND+neural+cell&mindate=2021&maxdate=2024&usehistory=y&retmax=100000000&rettype=xml\n",
      "key is 1\n",
      "Count value is  417\n",
      "OrderedDict([('eSearchResult', OrderedDict([('Count', '417'), ('RetMax', '417'), ('RetStart', '0'), ('QueryKey', '1'), ('WebEnv', 'MCID_659efba079dca8407a08093a'), ('IdList', OrderedDict([('Id', ['38191441', '38173173', '38145006', '38123162', '38091637', '38053303', '38049610', '38015300', '38002279', '38002267', '37956819', '37930996', '37930029', '37920011', '37896797', '37884211', '37853141', '37847658', '37786364', '37784209', '37775022', '37757765', '37735344', '37729625', '37679040', '37669264', '37649125', '37634189', '37628830', '37608216', '37529051', '37495086', '37478010', '37458167', '37452829', '37443801', '37435651', '37387168', '37348761', '37342077', '37331861', '37329995', '37311644', '37307197', '37304300', '37300737', '37285437', '37260797', '37190821', '37180147', '37174685', '37165453', '37149825', '37130532', '37113134', '37105022', '37097597', '37076526', '37071464', '37067931', '37041182', '37039676', '36964982', '36944325', '36936770', '36914084', '36899824', '36897648', '36870285', '36858030', '36857020', '36845115', '36843453', '36835445', '36830577', '36820474', '36805466', '36802914', '36799746', '36772915', '36772376', '36769057', '36748965', '36735149', '36726008', '36717481', '36710328', '36672177', '36671555', '36669119', '36657623', '36645121', '36642091', '36626425', '36624276', '36600199', '36595192', '36592784', '36579393', '36567371', '36563952', '36553530', '36549578', '36542694', '36537630', '36537079', '36529893', '36528240', '36526078', '36515286', '36494744', '36494613', '36470705', '36462664', '36460750', '36458986', '36434053', '36430870', '36422992', '36397624', '36378534', '36366485', '36357671', '36351721', '36343241', '36334414', '36314791', '36288725', '36279240', '36230989', '36230921', '36214989', '36211330', '36198765', '36197953', '36195636', '36180988', '36168684', '36165510', '36150465', '36137741', '36137317', '36121513', '36121081', '36113246', '36093995', '36092161', '36077041', '36075519', '36074872', '36058935', '36010557', '36004663', '35982454', '35951647', '35950254', '35894511', '35892559', '35883527', '35876935', '35876268', '35874953', '35849300', '35835438', '35831558', '35807384', '35792321', '35790059', '35772157', '35770069', '35768007', '35768006', '35766866', '35761501', '35759516', '35755832', '35751196', '35746689', '35732693', '35699901', '35674075', '35672716', '35668230', '35661455', '35658098', '35648256', '35636458', '35632761', '35632725', '35622798', '35585806', '35579496', '35567616', '35563764', '35551217', '35545847', '35538344', '35531328', '35525527', '35521969', '35521216', '35503602', '35468954', '35464419', '35457160', '35457093', '35456998', '35451691', '35439679', '35430045', '35429835', '35413071', '35412938', '35409141', '35404378', '35388072', '35382728', '35364661', '35364273', '35340277', '35336942', '35334213', '35307504', '35285072', '35281455', '35269963', '35263584', '35251006', '35189759', '35179977', '35169377', '35164590', '35136970', '35130240', '35107828', '35091835', '35064759', '35059816', '35054856', '35050927', '35025519', '35021982', '35006654', '34975876', '34974076', '34972690', '34962444', '34955064', '34943830', '34935438', '34924406', '34919459', '34914045', '34912345', '34862272', '34835030', '34831947', '34831271', '34798069', '34796023', '34778978', '34770548', '34764954', '34734914', '34696521', '34694467', '34682333', '34669545', '34647998', '34638785', '34628850', '34627082', '34619427', '34609841', '34609703', '34605953', '34601698', '34597274', '34590199', '34587403', '34578284', '34571838', '34543987', '34524614', '34523805', '34504502', '34484241', '34454912', '34452517', '34450928', '34444741', '34440767', '34424948', '34416468', '34410058', '34404266', '34400158', '34384355', '34379495', '34363587', '34360824', '34355210', '34353250', '34340983', '34339626', '34333284', '34333238', '34325716', '34318370', '34312772', '34312122', '34303641', '34287052', '34281186', '34261487', '34247339', '34244682', '34241783', '34234323', '34234248', '34223998', '34215216', '34193418', '34186311', '34185437', '34185052', '34170549', '34169443', '34162747', '34160239', '34155186', '34153974', '34144902', '34139598', '34130463', '34112082', '34108016', '34102107', '34091092', '34042168', '34036855', '34032852', '34032436', '34019009', '34016942', '34016010', '34009266', '34003372', '33992187', '33989761', '33983506', '33979600', '33977807', '33965353', '33949163', '33941622', '33903954', '33898386', '33895780', '33894532', '33886074', '33885915', '33880524', '33872186', '33860871', '33856027', '33847870', '33830871', '33804609', '33800686', '33774378', '33734600', '33723208', '33719624', '33714279', '33705856', '33685769', '33668514', '33660912', '33652988', '33647790', '33641023', '33640208', '33636110', '33631123', '33631122', '33616867', '33607766', '33606593', '33606070', '33600902', '33577841', '33577414', '33547380', '33547334', '33538586', '33530458', '33525682', '33522795', '33512126', '33487628', '33486479', '33481041', '33470286', '33450186', '33439437', '33433624', '33428993', '33422689', '33417221', '33414554', '33412255', '33401106', '33398129', '33393319', '33390561', '33380345'])])), ('TranslationSet', OrderedDict([('Translation', [OrderedDict([('From', 'COVID-19[mesh]'), ('To', '\"covid-19\"[MeSH Terms]')]), OrderedDict([('From', 'neural cell'), ('To', '\"neurons\"[MeSH Terms] OR \"neurons\"[All Fields] OR (\"neural\"[All Fields] AND \"cell\"[All Fields]) OR \"neural cell\"[All Fields]')])])])), ('QueryTranslation', '\"covid 19\"[MeSH Terms] AND (\"neurons\"[MeSH Terms] OR \"neurons\"[All Fields] OR (\"neural\"[All Fields] AND \"cell\"[All Fields]) OR \"neural cell\"[All Fields]) AND 2021/01/01:2024/12/31[Date - Entry]'), ('WarningList', OrderedDict([('OutputMessage', 'Restrictions achieved. start and count adjusted to 0, 9999')]))]))])\n",
      "417\n"
     ]
    }
   ],
   "source": [
    "# Fetch pmids\n",
    "#Common setting between esearch and efetch\n",
    "base_url = 'https://eutils.ncbi.nlm.nih.gov/entrez/eutils/'\n",
    "db = 'db=pubmed'\n",
    "#query_list = ['COVID-19[mesh]+AND+blood-brain+barrier', 'COVID-19[mesh]+AND+human+brain+organoids', 'COVID-19[mesh]+AND+neurodegenerative+diseases']\n",
    "query_list = ['COVID-19[mesh]+AND+neural+cell']\n",
    "mindate = \"2021\"\n",
    "maxdate = \"2024\"\n",
    "final_ids = []\n",
    "query_ids = []\n",
    "all_pmids = []\n",
    "file_index = 0\n",
    "\n",
    "for item in query_list:\n",
    "    #open output file for writing\n",
    "    # writer_large_ids = open('ids{}.txt'.format(file_index), 'w')\n",
    "    # writer_large_ids.write(item)\n",
    "    # writer_large_ids.write(\"\\n\")\n",
    "    query = item\n",
    "    print(\"searching query about:\", query)\n",
    "    # esearch specific settings\n",
    "    search_eutil = 'esearch.fcgi?'\n",
    "    search_term = '&term=' + query\n",
    "    search_usehistory = '&usehistory=y'\n",
    "    search_rettype = '&rettype=xml'\n",
    "    search_date = '+2000[pdat]'\n",
    "    search_retmax ='&retmax=100000000'\n",
    "    search_mindate = '&mindate='+mindate\n",
    "    search_maxdate = '&maxdate='+maxdate\n",
    "\n",
    "    #Create search url\n",
    "    search_url = base_url \\\n",
    "        + search_eutil \\\n",
    "        + db+ search_term \\\n",
    "        + search_mindate \\\n",
    "        + search_maxdate \\\n",
    "        + search_usehistory \\\n",
    "        + search_retmax \\\n",
    "        + search_rettype\n",
    "\n",
    "    print(\"Search URL\",search_url)\n",
    "    f = urllib.request.urlopen(search_url)\n",
    "    search_data = f.read().decode('utf-8')\n",
    "\n",
    "    #Fetch PMids and print in XML format and convert it to Dictionary\n",
    "    search_data_xml = requests.get(search_url)\n",
    "    dict_data = xmltodict.parse(search_data_xml.content)\n",
    "    count = int(dict_data[\"eSearchResult\"][\"Count\"])\n",
    "    web = ((dict_data[\"eSearchResult\"][\"WebEnv\"]))\n",
    "    key = (dict_data[\"eSearchResult\"][\"QueryKey\"])\n",
    "    print(\"key is\", key)\n",
    "    print(\"Count value is \", count)\n",
    "    print(dict_data)\n",
    "    ids = dict_data[\"eSearchResult\"][\"IdList\"][\"Id\"]\n",
    "    print(len(ids))\n",
    "    writer = open('{}.txt'.format(item), 'w')\n",
    "    for the_id in ids:\n",
    "        writer.write(str(the_id))\n",
    "        writer.write(\"\\n\")\n",
    "    writer.close()"
   ]
  },
  {
   "cell_type": "markdown",
   "metadata": {},
   "source": []
  },
  {
   "cell_type": "code",
   "execution_count": 16,
   "metadata": {},
   "outputs": [],
   "source": [
    "# save all ids for each related search\n",
    "index = 0\n",
    "for item in query_list:\n",
    "    writer = open('{}.txt'.format(item), 'w')\n",
    "    for id in final_ids[index]:\n",
    "        writer.write(str(id))\n",
    "        writer.write(\"\\n\")\n",
    "    index += 1\n"
   ]
  }
 ],
 "metadata": {
  "interpreter": {
   "hash": "d6ca1284c7bd7ae5870c8ab738ede617c834b0c6d27e733d7d2a522b2e1e0f98"
  },
  "kernelspec": {
   "display_name": "Python 3.12.0 64-bit",
   "name": "python3"
  },
  "language_info": {
   "codemirror_mode": {
    "name": "ipython",
    "version": 3
   },
   "file_extension": ".py",
   "mimetype": "text/x-python",
   "name": "python",
   "nbconvert_exporter": "python",
   "pygments_lexer": "ipython3",
   "version": "3.11.4"
  },
  "orig_nbformat": 4
 },
 "nbformat": 4,
 "nbformat_minor": 2
}
